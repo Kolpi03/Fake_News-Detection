{
 "cells": [
  {
   "cell_type": "code",
   "execution_count": 1,
   "id": "0e8c1ae8-7968-40ba-aa46-4dd94c63746f",
   "metadata": {},
   "outputs": [],
   "source": [
    "import pandas as pd\n",
    "import numpy as np\n",
    "import seaborn as sns\n",
    "import matplotlib.pyplot as plt\n",
    "from sklearn.model_selection import train_test_split\n",
    "from sklearn.metrics import accuracy_score\n",
    "from sklearn.metrics import classification_report\n",
    "import re \n",
    "import string"
   ]
  },
  {
   "cell_type": "code",
   "execution_count": 2,
   "id": "e62ec27e-1b08-4068-9cb6-5c901b56af1a",
   "metadata": {},
   "outputs": [],
   "source": [
    "data_fake=pd.read_csv(\"Fake.csv\")\n",
    "data_true=pd.read_csv(\"True.csv\")"
   ]
  },
  {
   "cell_type": "code",
   "execution_count": null,
   "id": "d28638ba-ab08-41bf-aecd-578079d97275",
   "metadata": {},
   "outputs": [],
   "source": [
    "data_fake.head()"
   ]
  },
  {
   "cell_type": "code",
   "execution_count": null,
   "id": "326fb83f-7ec6-457e-bb6c-848040bfedd8",
   "metadata": {},
   "outputs": [],
   "source": [
    "data_true.head()"
   ]
  },
  {
   "cell_type": "code",
   "execution_count": 5,
   "id": "db506039-9b85-436d-afea-58c6441c7d34",
   "metadata": {},
   "outputs": [],
   "source": [
    "data_fake[\"class\"]=0\n",
    "data_true[\"class\"]=1"
   ]
  },
  {
   "cell_type": "code",
   "execution_count": null,
   "id": "cf45ada7-1427-46f4-b0db-5db4a4eedd99",
   "metadata": {},
   "outputs": [],
   "source": [
    "print(data_fake.shape,data_true.shape)"
   ]
  },
  {
   "cell_type": "code",
   "execution_count": null,
   "id": "60cd240f-e41e-4703-bdc4-ca831d114207",
   "metadata": {},
   "outputs": [],
   "source": [
    "print(data_fake.index)"
   ]
  },
  {
   "cell_type": "code",
   "execution_count": null,
   "id": "ace04110-828a-400b-b94f-0fa4d2658f97",
   "metadata": {},
   "outputs": [],
   "source": [
    "print(data_true.index)"
   ]
  },
  {
   "cell_type": "code",
   "execution_count": null,
   "id": "ef833680-eecb-490d-a266-960ff70fcdb2",
   "metadata": {},
   "outputs": [],
   "source": []
  },
  {
   "cell_type": "code",
   "execution_count": 9,
   "id": "4e1d536c-e510-4c43-9604-f68b6cfa2ffd",
   "metadata": {},
   "outputs": [],
   "source": [
    "data_fake_manual_testing=data_fake.tail(10)\n",
    "for i in range(23480,23470,-1):\n",
    "    data_fake.drop([i],axis=0,inplace=True)\n",
    "    "
   ]
  },
  {
   "cell_type": "code",
   "execution_count": 10,
   "id": "9a59360c-c5b3-4b43-973e-9bedf3b9abb3",
   "metadata": {},
   "outputs": [],
   "source": [
    "data_true_manual_testing=data_true.tail(10)\n",
    "for i in range(21416,21406,-1):\n",
    "    data_true.drop([i],axis=0,inplace=True  )  "
   ]
  },
  {
   "cell_type": "code",
   "execution_count": null,
   "id": "d523f599-4501-40ea-b66a-dd84fa345736",
   "metadata": {},
   "outputs": [],
   "source": [
    "print(data_fake.shape,data_true.shape)"
   ]
  },
  {
   "cell_type": "code",
   "execution_count": null,
   "id": "4b84096f-dadd-4175-8ce7-282ba2f5eb2c",
   "metadata": {},
   "outputs": [],
   "source": [
    "data_fake_manual_testing['class']=0\n",
    "data_true_manual_testing['class']=1"
   ]
  },
  {
   "cell_type": "code",
   "execution_count": null,
   "id": "f749d1fa-3974-40a3-9109-501ae55e24a7",
   "metadata": {},
   "outputs": [],
   "source": [
    "data_fake_manual_testing.head(10)"
   ]
  },
  {
   "cell_type": "code",
   "execution_count": null,
   "id": "2aeb7eed-09de-4d0a-8371-d39aeddb71f9",
   "metadata": {},
   "outputs": [],
   "source": [
    "data_true_manual_testing.head(10)"
   ]
  },
  {
   "cell_type": "code",
   "execution_count": null,
   "id": "98b83102-164e-4ba7-a6fb-bdfc0469d767",
   "metadata": {},
   "outputs": [],
   "source": [
    "data_merge =pd.concat([data_fake,data_true],axis=0)\n",
    "print(data_merge)\n",
    "\n",
    "                      "
   ]
  },
  {
   "cell_type": "code",
   "execution_count": null,
   "id": "945b4aac-9fb7-4a6b-b670-8e78e64b87de",
   "metadata": {},
   "outputs": [],
   "source": [
    "data_merge.columns"
   ]
  },
  {
   "cell_type": "code",
   "execution_count": 17,
   "id": "53861f44-a5c5-405d-b730-709b8674976f",
   "metadata": {},
   "outputs": [],
   "source": [
    "data=data_merge.drop([\"title\",\"subject\",\"date\"],axis=1)"
   ]
  },
  {
   "cell_type": "code",
   "execution_count": null,
   "id": "bd5da54e-c0f1-4372-835f-888d972a7f36",
   "metadata": {},
   "outputs": [],
   "source": [
    "data.isnull().sum()"
   ]
  },
  {
   "cell_type": "code",
   "execution_count": 19,
   "id": "cd137658-04a5-491c-ba1d-c313c9940c31",
   "metadata": {},
   "outputs": [],
   "source": [
    "data_merge=data_merge.sample(frac=1).reset_index(drop=True)"
   ]
  },
  {
   "cell_type": "code",
   "execution_count": null,
   "id": "ad7f5198-6bd8-4708-b14f-283c322f9551",
   "metadata": {},
   "outputs": [],
   "source": [
    "data.head()"
   ]
  },
  {
   "cell_type": "code",
   "execution_count": 21,
   "id": "60395f42-e5de-4675-be8d-b824528bcc67",
   "metadata": {},
   "outputs": [],
   "source": [
    "#data.reset_index(inplace=True)\n",
    "#data.drop(['index'],axis=1,inplace=True)"
   ]
  },
  {
   "cell_type": "code",
   "execution_count": null,
   "id": "70c83c24-3dda-4f18-80af-32d36cd2efd1",
   "metadata": {},
   "outputs": [],
   "source": [
    "data.columns"
   ]
  },
  {
   "cell_type": "code",
   "execution_count": null,
   "id": "429e2366-197b-48bc-8115-69c88886a854",
   "metadata": {},
   "outputs": [],
   "source": [
    "data.head()"
   ]
  },
  {
   "cell_type": "code",
   "execution_count": null,
   "id": "f17996c8-f341-474b-a3a9-8db9c92a834c",
   "metadata": {},
   "outputs": [],
   "source": [
    "def textprocessing(text):\n",
    "    text = text.lower()\n",
    "    text = re.sub(r'\\[.*?\\]', '', text)  \n",
    "    text = re.sub(r\"\\W\", \" \", text)     \n",
    "    text = re.sub(r\"https?://\\S+|www\\.\\S+\", '', text)  \n",
    "    text = re.sub(r\"[%s]\" % re.escape(string.punctuation), '', text)\n",
    "    text = re.sub(r\"\\w*\\d\\w*\", '', text)  \n",
    "    return text\n"
   ]
  },
  {
   "cell_type": "code",
   "execution_count": null,
   "id": "84ddcefd-3faf-4d87-a52e-e5622044622e",
   "metadata": {},
   "outputs": [],
   "source": [
    "data_merge['test']=data_merge['text'].apply(textprocessing)"
   ]
  },
  {
   "cell_type": "code",
   "execution_count": 26,
   "id": "7625e951-a970-438f-9201-705bf158899d",
   "metadata": {},
   "outputs": [],
   "source": [
    "x=data['text']\n",
    "y=data['class']"
   ]
  },
  {
   "cell_type": "code",
   "execution_count": 27,
   "id": "e4de4a7b-820b-4c20-ba32-ef9397ed054d",
   "metadata": {},
   "outputs": [],
   "source": [
    "from sklearn.model_selection import train_test_split\n",
    "\n",
    "x_train, x_test, y_train, y_test = train_test_split(x, y, test_size=0.25, random_state=42)"
   ]
  },
  {
   "cell_type": "code",
   "execution_count": 28,
   "id": "56a755b8-c2fa-4be6-be73-9dff36d72fb5",
   "metadata": {},
   "outputs": [],
   "source": [
    "from sklearn.feature_extraction.text import TfidfVectorizer\n",
    "vectorizer = TfidfVectorizer()  \n",
    "xv_train = vectorizer.fit_transform(x_train)\n",
    "xv_test = vectorizer.transform(x_test)  "
   ]
  },
  {
   "cell_type": "code",
   "execution_count": null,
   "id": "27bb4062-6d1a-4fb6-80e7-efa71af3bfd4",
   "metadata": {},
   "outputs": [],
   "source": [
    "print(xv_train.shape, y_train.shape)\n",
    "print(xv_test.shape,y_test.shape)\n"
   ]
  },
  {
   "cell_type": "code",
   "execution_count": null,
   "id": "b7093215-1d8a-4b04-a413-8bd5d22c8c93",
   "metadata": {},
   "outputs": [],
   "source": [
    "from sklearn.linear_model import LogisticRegression\n",
    "LR = LogisticRegression()\n",
    "LR.fit(xv_train,y_train)"
   ]
  },
  {
   "cell_type": "code",
   "execution_count": null,
   "id": "20f31a50-5f19-4821-bed1-862a92e99397",
   "metadata": {},
   "outputs": [],
   "source": [
    "pred_lr=LR.predict(xv_test)"
   ]
  },
  {
   "cell_type": "code",
   "execution_count": null,
   "id": "96cc97eb-5325-4d2f-bf87-b56751ad100f",
   "metadata": {},
   "outputs": [],
   "source": [
    "LR.score(xv_test,y_test)"
   ]
  },
  {
   "cell_type": "code",
   "execution_count": null,
   "id": "e2804bb9-706a-45e4-96cb-ee0e30462965",
   "metadata": {},
   "outputs": [],
   "source": [
    "print(classification_report(y_test,pred_lr))"
   ]
  },
  {
   "cell_type": "code",
   "execution_count": null,
   "id": "f430783f-5701-4d25-b96a-f1c0b5b8700d",
   "metadata": {},
   "outputs": [],
   "source": [
    "from sklearn.tree import DecisionTreeClassifier\n",
    "DT=DecisionTreeClassifier()\n",
    "DT.fit(xv_train,y_train)"
   ]
  },
  {
   "cell_type": "code",
   "execution_count": null,
   "id": "e7176bdb-4b96-4d25-b26e-9fe4d718344c",
   "metadata": {},
   "outputs": [],
   "source": [
    "pred_dt=DT.predict(xv_test)\n",
    "DT.score(xv_test,y_test)"
   ]
  },
  {
   "cell_type": "code",
   "execution_count": null,
   "id": "58de765d-87a5-4c0b-93bd-cf072da69646",
   "metadata": {},
   "outputs": [],
   "source": [
    "from sklearn.ensemble import GradientBoostingClassifier\n",
    "from sklearn.metrics import classification_report\n",
    "GB=GradientBoostingClassifier(random_state=0)\n",
    "GB.fit(xv_train,y_train)"
   ]
  },
  {
   "cell_type": "code",
   "execution_count": null,
   "id": "974bbb4e-80ed-4474-b056-c0dd037aa735",
   "metadata": {},
   "outputs": [],
   "source": [
    "pred_gb=GB.predict(xv_test)\n"
   ]
  },
  {
   "cell_type": "code",
   "execution_count": null,
   "id": "e1067ab8-53a5-4464-995d-122f896bff92",
   "metadata": {},
   "outputs": [],
   "source": [
    "print(classification_report(y_test,pred_gb))"
   ]
  },
  {
   "cell_type": "code",
   "execution_count": null,
   "id": "2f95c422-0aa2-406d-9ee8-dd64c96507d6",
   "metadata": {},
   "outputs": [],
   "source": [
    "from sklearn.ensemble import RandomForestClassifier\n",
    "RF=RandomForestClassifier(random_state=0)\n",
    "RF.fit(xv_train,y_train)"
   ]
  },
  {
   "cell_type": "code",
   "execution_count": null,
   "id": "87e73ae5-cf50-4c70-a40f-a383a087c578",
   "metadata": {},
   "outputs": [],
   "source": [
    "pred_rf=RF.predict(xv_test)"
   ]
  },
  {
   "cell_type": "code",
   "execution_count": null,
   "id": "81d0d9ae-a8bc-4013-90b7-b97d254daec4",
   "metadata": {},
   "outputs": [],
   "source": [
    "RF.score(xv_test,y_test)"
   ]
  },
  {
   "cell_type": "code",
   "execution_count": null,
   "id": "b4ce793f-2d1c-484b-be2f-2b9f5e41a806",
   "metadata": {},
   "outputs": [],
   "source": [
    "print(classification_report(y_test,pred_rf))"
   ]
  },
  {
   "cell_type": "code",
   "execution_count": null,
   "id": "49c83cd2-a5b8-4714-9cd9-296dcd8fac28",
   "metadata": {},
   "outputs": [],
   "source": [
    "def output_label(n):\n",
    "    if n == 0:\n",
    "        return \"Fake News\"\n",
    "    elif n == 1:\n",
    "        return \"Not A Fake News\"\n",
    "\n",
    "def manual_testing(news):\n",
    "    testing_news = {\"text\": [news]}\n",
    "    new_def_test = pd.DataFrame(testing_news)\n",
    "    \n",
    "\n",
    "    new_def_test[\"text\"] = new_def_test[\"text\"].apply(textprocessing)  \n",
    "    \n",
    "    new_x_test = new_def_test[\"text\"]\n",
    "    new_xv_test = vectorization.transform(new_x_test)  \n",
    "    \n",
    "    pred_LR = LR.predict(new_xv_test)   \n",
    "    pred_DT = DT.predict(new_xv_test)   \n",
    "    pred_GBC = GB.predict(new_xv_test) \n",
    "    pred_RFC = RF.predict(new_xv_test) \n",
    "\n",
    "    return print(\"\\n\\nLR Prediction: {} \\nDT Prediction: {} \\nGBC Prediction: {} \\nRFC Prediction: {}\".format(\n",
    "        output_label(pred_LR[0]), output_label(pred_DT[0]), output_label(pred_GB[0]), output_label(pred_RF[0])\n",
    "    ))\n",
    "\n",
    "\n"
   ]
  },
  {
   "cell_type": "code",
   "execution_count": null,
   "id": "10434183-ede6-4af0-ba24-5430be9d962f",
   "metadata": {},
   "outputs": [],
   "source": [
    "news=str(input())\n",
    "manual_testing(news)"
   ]
  },
  {
   "cell_type": "code",
   "execution_count": null,
   "id": "85ff9282-bcbf-40f7-b1a5-e6039f6b3585",
   "metadata": {},
   "outputs": [],
   "source": []
  },
  {
   "cell_type": "code",
   "execution_count": null,
   "id": "8aa59c26-f16a-405d-b7f3-bd6da7e6ff56",
   "metadata": {},
   "outputs": [],
   "source": []
  },
  {
   "cell_type": "code",
   "execution_count": null,
   "id": "ed9326eb-b4df-416a-97b6-815b1ebf96d5",
   "metadata": {},
   "outputs": [],
   "source": []
  },
  {
   "cell_type": "code",
   "execution_count": null,
   "id": "4d0b4db6-ba58-4342-afd5-800d9177f7fc",
   "metadata": {},
   "outputs": [],
   "source": []
  },
  {
   "cell_type": "code",
   "execution_count": null,
   "id": "0743f253-3ece-4d31-8fc9-84b29a1bee4d",
   "metadata": {},
   "outputs": [],
   "source": []
  },
  {
   "cell_type": "code",
   "execution_count": null,
   "id": "7f6db38d-7b19-463e-adc1-6db024c90d16",
   "metadata": {},
   "outputs": [],
   "source": []
  },
  {
   "cell_type": "code",
   "execution_count": null,
   "id": "577aff21-e6b0-439a-9831-e23537d4e5cb",
   "metadata": {},
   "outputs": [],
   "source": []
  },
  {
   "cell_type": "code",
   "execution_count": null,
   "id": "c01ea614-2631-4881-a956-094c1f19713d",
   "metadata": {},
   "outputs": [],
   "source": []
  },
  {
   "cell_type": "code",
   "execution_count": null,
   "id": "30028cdc-d89d-4293-a1c8-ea2218819806",
   "metadata": {},
   "outputs": [],
   "source": []
  },
  {
   "cell_type": "code",
   "execution_count": null,
   "id": "6e3044c6-7847-43bf-aa6b-2fc3825f6ad9",
   "metadata": {},
   "outputs": [],
   "source": []
  },
  {
   "cell_type": "code",
   "execution_count": null,
   "id": "cf0cdc6a-4d03-40db-a974-fbdd9b9c6460",
   "metadata": {},
   "outputs": [],
   "source": []
  },
  {
   "cell_type": "code",
   "execution_count": null,
   "id": "aafc0150-2e57-4224-bf83-b0b5170b4eda",
   "metadata": {},
   "outputs": [],
   "source": []
  },
  {
   "cell_type": "code",
   "execution_count": null,
   "id": "c5b10ef5-27a3-4c51-8fa6-d969d4e5df02",
   "metadata": {},
   "outputs": [],
   "source": []
  },
  {
   "cell_type": "code",
   "execution_count": null,
   "id": "730a262f-83fb-4ec2-acdb-b69ce5cc083d",
   "metadata": {},
   "outputs": [],
   "source": []
  },
  {
   "cell_type": "code",
   "execution_count": null,
   "id": "45627297-a4cf-4c02-ac25-d7c49c31025f",
   "metadata": {},
   "outputs": [],
   "source": []
  },
  {
   "cell_type": "code",
   "execution_count": null,
   "id": "f091fa01-0d5e-4a5f-9e05-f05a341a481e",
   "metadata": {},
   "outputs": [],
   "source": []
  }
 ],
 "metadata": {
  "kernelspec": {
   "display_name": "Python [conda env:base] *",
   "language": "python",
   "name": "conda-base-py"
  },
  "language_info": {
   "codemirror_mode": {
    "name": "ipython",
    "version": 3
   },
   "file_extension": ".py",
   "mimetype": "text/x-python",
   "name": "python",
   "nbconvert_exporter": "python",
   "pygments_lexer": "ipython3",
   "version": "3.12.7"
  }
 },
 "nbformat": 4,
 "nbformat_minor": 5
}
